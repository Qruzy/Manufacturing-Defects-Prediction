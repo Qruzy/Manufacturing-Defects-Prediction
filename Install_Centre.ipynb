{
 "cells": [
  {
   "cell_type": "code",
   "execution_count": 1,
   "id": "2da08c25-bb47-491c-8e82-e07f8078d5ea",
   "metadata": {},
   "outputs": [
    {
     "name": "stdout",
     "output_type": "stream",
     "text": [
      "Collecting lightgbm\n",
      "  Downloading lightgbm-4.5.0-py3-none-win_amd64.whl.metadata (17 kB)\n",
      "Requirement already satisfied: numpy>=1.17.0 in c:\\users\\user\\anaconda3\\envs\\python311\\lib\\site-packages (from lightgbm) (1.26.4)\n",
      "Requirement already satisfied: scipy in c:\\users\\user\\anaconda3\\envs\\python311\\lib\\site-packages (from lightgbm) (1.13.1)\n",
      "Downloading lightgbm-4.5.0-py3-none-win_amd64.whl (1.4 MB)\n",
      "   ---------------------------------------- 0.0/1.4 MB ? eta -:--:--\n",
      "   ---------------------------------------- 0.0/1.4 MB ? eta -:--:--\n",
      "   - -------------------------------------- 0.0/1.4 MB 393.8 kB/s eta 0:00:04\n",
      "   --- ------------------------------------ 0.1/1.4 MB 1.0 MB/s eta 0:00:02\n",
      "   ---- ----------------------------------- 0.2/1.4 MB 1.1 MB/s eta 0:00:02\n",
      "   ---- ----------------------------------- 0.2/1.4 MB 1.1 MB/s eta 0:00:02\n",
      "   ---- ----------------------------------- 0.2/1.4 MB 1.1 MB/s eta 0:00:02\n",
      "   ---- ----------------------------------- 0.2/1.4 MB 1.1 MB/s eta 0:00:02\n",
      "   ---- ----------------------------------- 0.2/1.4 MB 1.1 MB/s eta 0:00:02\n",
      "   ------ --------------------------------- 0.2/1.4 MB 576.2 kB/s eta 0:00:03\n",
      "   ----------- ---------------------------- 0.4/1.4 MB 888.4 kB/s eta 0:00:02\n",
      "   ------------- -------------------------- 0.5/1.4 MB 971.2 kB/s eta 0:00:01\n",
      "   --------------------- ------------------ 0.8/1.4 MB 1.4 MB/s eta 0:00:01\n",
      "   --------------------- ------------------ 0.8/1.4 MB 1.4 MB/s eta 0:00:01\n",
      "   --------------------- ------------------ 0.8/1.4 MB 1.4 MB/s eta 0:00:01\n",
      "   ------------------------------ --------- 1.1/1.4 MB 1.6 MB/s eta 0:00:01\n",
      "   -------------------------------- ------- 1.2/1.4 MB 1.6 MB/s eta 0:00:01\n",
      "   ---------------------------------------  1.4/1.4 MB 1.8 MB/s eta 0:00:01\n",
      "   ---------------------------------------- 1.4/1.4 MB 1.8 MB/s eta 0:00:00\n",
      "Installing collected packages: lightgbm\n",
      "Successfully installed lightgbm-4.5.0\n"
     ]
    }
   ],
   "source": [
    "!pip install lightgbm"
   ]
  },
  {
   "cell_type": "code",
   "execution_count": null,
   "id": "b62463cb-81dd-44f3-87e5-dff89a8a62fe",
   "metadata": {},
   "outputs": [],
   "source": []
  }
 ],
 "metadata": {
  "kernelspec": {
   "display_name": "Python 3 (ipykernel)",
   "language": "python",
   "name": "python3"
  },
  "language_info": {
   "codemirror_mode": {
    "name": "ipython",
    "version": 3
   },
   "file_extension": ".py",
   "mimetype": "text/x-python",
   "name": "python",
   "nbconvert_exporter": "python",
   "pygments_lexer": "ipython3",
   "version": "3.11.9"
  }
 },
 "nbformat": 4,
 "nbformat_minor": 5
}
